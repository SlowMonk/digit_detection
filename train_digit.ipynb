{
 "cells": [
  {
   "cell_type": "code",
   "execution_count": 1,
   "metadata": {},
   "outputs": [],
   "source": [
    "import torch\n",
    "from torch.utils.data import Dataset\n",
    "import h5py\n",
    "import numpy as np\n",
    "from PIL import Image\n",
    "from utils import read_mat_file, visualize_sample_dataset\n",
    "from dataloader import SVHDDataset\n",
    "import scipy.io\n",
    "\n",
    "from torch.utils.data import Dataset\n",
    "from torchvision import transforms\n",
    "import matplotlib.pyplot as plt\n",
    "from matplotlib.patches import Rectangle\n",
    "from model import VGG\n",
    "import torch\n",
    "import torch.nn as nn\n",
    "import torch.optim as optim\n",
    "from torch.utils.data import DataLoader\n",
    "\n",
    "from tqdm import tqdm\n",
    "from torch.utils.data import DataLoader, random_split\n",
    "import os\n",
    "from torchvision import models, transforms\n",
    "import torch\n",
    "import torch.nn as nn\n",
    "import torch.optim as optim\n",
    "from torch.utils.data import DataLoader\n",
    "from torchvision import models, transforms\n",
    "# Train the model\n",
    "from model import VGG16\n",
    "#import cv2 \n",
    "\n",
    "os.environ['TORCH_NNPACK'] = '0'"
   ]
  },
  {
   "cell_type": "code",
   "execution_count": 2,
   "metadata": {},
   "outputs": [],
   "source": [
    "train_path = '/data/omscs_datasets/train/'\n",
    "train_mat_file_path = train_path + 'digitStruct.mat'\n",
    "test_path = '/data/omscs_datasets/train/'\n",
    "test_mat_file_path = test_path + 'digitStruct.mat'\n",
    "device = torch.device(\"cuda\")"
   ]
  },
  {
   "cell_type": "code",
   "execution_count": 3,
   "metadata": {},
   "outputs": [],
   "source": [
    "import random\n",
    "\n",
    "\n",
    "class SVHDDigitNonDigitDataset(Dataset):\n",
    "    \n",
    "    def __init__(self, mat_file_path, image_dir, mode):\n",
    "        # 파일 열기 및 데이터셋 구조 읽기\n",
    "        with h5py.File(mat_file_path, 'r') as f:\n",
    "            if mode == 'train':\n",
    "                print('## train ##')\n",
    "                self.digitStruct = f['digitStruct']\n",
    "                self.bbox_refs = [obj_ref[0] for _, obj_ref in enumerate(self.digitStruct['bbox'])]\n",
    "                self.name_refs = [obj_ref[0] for _, obj_ref in enumerate(self.digitStruct['name'])]\n",
    "            else:\n",
    "                print('## test ##')\n",
    "                self.digitStruct = f\n",
    "                self.bbox_refs = [f[key][()] for key in f['bbox'].keys()]\n",
    "                self.name_refs = [f[key][()] for key in f['name'].keys()]\n",
    "\n",
    "            self.length = len(self.digitStruct)\n",
    "\n",
    "        self.file = h5py.File(mat_file_path, 'r')  # 파일 따로 열기\n",
    "        self.image_dir = image_dir\n",
    "        self.transform = transforms.Compose([\n",
    "            transforms.Resize((32, 32)),\n",
    "            transforms.ToTensor(),\n",
    "        ])\n",
    "\n",
    "    def __len__(self):\n",
    "        return self.length\n",
    "\n",
    "    def __getitem__(self, idx):\n",
    "        # 이미지 및 레이블 정보 액세스\n",
    "        bbox_data = self.file[self.bbox_refs[idx]]\n",
    "\n",
    "        num_boxes = bbox_data['height'].shape[0]\n",
    "\n",
    "        digit_samples = []\n",
    "        non_digit_samples = []\n",
    "\n",
    "        for i in (range(num_boxes)):\n",
    "            # bbox 정보 로드\n",
    "            height_ref = bbox_data['height'][i]\n",
    "            width_ref = bbox_data['width'][i]\n",
    "            top_ref = bbox_data['top'][i]\n",
    "            left_ref = bbox_data['left'][i]\n",
    "            label_ref = bbox_data['label'][i]\n",
    "\n",
    "            try:\n",
    "                height = self.file[height_ref[0]][()].item()\n",
    "                width = self.file[width_ref[0]][()].item()\n",
    "                top = self.file[top_ref[0]][()].item()\n",
    "                left = self.file[left_ref[0]][()].item()\n",
    "                label = self.file[label_ref[0]][()].item()\n",
    "            except:\n",
    "                height = height_ref[0]\n",
    "                width = width_ref[0]\n",
    "                top = top_ref[0]\n",
    "                left = left_ref[0]\n",
    "                label = label_ref[0]\n",
    "\n",
    "            # 이미지 로드 및 크롭\n",
    "            image_path = os.path.join(self.image_dir, str(idx + 1) + '.png')\n",
    "            image = Image.open(image_path)\n",
    "            cropped_image = image.crop((left, top, left + width, top + height))\n",
    "            cropped_image = self.transform(cropped_image)\n",
    "\n",
    "            digit_sample = {\n",
    "                'image': cropped_image,\n",
    "                'label': 1,\n",
    "                'name': image_path\n",
    "            }\n",
    "            digit_samples.append(digit_sample)\n",
    "    \n",
    "        if num_boxes == 1:\n",
    "            try:\n",
    "                # 임의의 위치와 크기로 박스 생성\n",
    "                left = random.randint(0, image.size[0] - 32)\n",
    "                top = random.randint(0, image.size[1] - 32)\n",
    "\n",
    "                # Digit와 겹치는지 확인\n",
    "                try:\n",
    "                    d_height = self.file[height_ref[0]][()].item()\n",
    "                    d_width = self.file[width_ref[0]][()].item()\n",
    "                    d_top = self.file[top_ref[0]][()].item()\n",
    "                    d_left = self.file[left_ref[0]][()].item()\n",
    "                    label = self.file[label_ref[0]][()].item()\n",
    "                except:\n",
    "                    d_height = height_ref[0]\n",
    "                    d_width = width_ref[0]\n",
    "                    d_top = top_ref[0]\n",
    "                    d_left = left_ref[0]\n",
    "                    label = label_ref[0]\n",
    "\n",
    "                if not (left + 32 <= d_left or left >= d_left + d_width or\n",
    "                        top + 32 <= d_top or top >= d_top + d_height):\n",
    "                    pass\n",
    "\n",
    "                # Non-digit 영역 크롭\n",
    "                cropped_image = image.crop((left, top, left + 32, top + 32))\n",
    "                cropped_image = self.transform(cropped_image)\n",
    "\n",
    "                non_digit_sample = {\n",
    "                    'image': cropped_image,\n",
    "                    'label': 0,\n",
    "                    'name': image_path\n",
    "                }\n",
    "                non_digit_samples.append(non_digit_sample)\n",
    "                \n",
    "            except:\n",
    "                pass\n",
    "\n",
    "        # Digit 및 Non-Digit 샘플 결합\n",
    "        return digit_samples +  non_digit_samples"
   ]
  },
  {
   "cell_type": "code",
   "execution_count": 4,
   "metadata": {},
   "outputs": [
    {
     "name": "stdout",
     "output_type": "stream",
     "text": [
      "## train ##\n"
     ]
    }
   ],
   "source": [
    "train_dataset = SVHDDigitNonDigitDataset(train_mat_file_path, train_path,mode='train')"
   ]
  },
  {
   "cell_type": "code",
   "execution_count": 5,
   "metadata": {},
   "outputs": [
    {
     "name": "stderr",
     "output_type": "stream",
     "text": [
      "33402it [02:56, 189.62it/s]          \n"
     ]
    }
   ],
   "source": [
    "train_images = []\n",
    "train_labels = []\n",
    "for t in tqdm(train_dataset):\n",
    "    for tt in t:\n",
    "        train_images.append(tt['image'])\n",
    "        train_labels.append(tt['label'])"
   ]
  },
  {
   "cell_type": "code",
   "execution_count": 6,
   "metadata": {},
   "outputs": [
    {
     "name": "stdout",
     "output_type": "stream",
     "text": [
      "3828 73257\n"
     ]
    }
   ],
   "source": [
    "print(train_labels.count(0), train_labels.count(1))"
   ]
  },
  {
   "cell_type": "code",
   "execution_count": 7,
   "metadata": {},
   "outputs": [
    {
     "name": "stdout",
     "output_type": "stream",
     "text": [
      "torch.Size([3, 32, 32]) 1\n"
     ]
    }
   ],
   "source": [
    "num = 200\n",
    "print(train_images[num].shape, train_labels[num])"
   ]
  },
  {
   "cell_type": "code",
   "execution_count": 8,
   "metadata": {},
   "outputs": [
    {
     "data": {
      "text/plain": [
       "<matplotlib.image.AxesImage at 0x7f39128ab6a0>"
      ]
     },
     "execution_count": 8,
     "metadata": {},
     "output_type": "execute_result"
    },
    {
     "data": {
      "image/png": "[encoded data removed]",
      "text/plain": [
       "<Figure size 640x480 with 1 Axes>"
      ]
     },
     "metadata": {},
     "output_type": "display_data"
    }
   ],
   "source": [
    "np_image = train_images[num].numpy().transpose(1,2,0)\n",
    "plt.imshow(np_image)"
   ]
  },
  {
   "cell_type": "code",
   "execution_count": 9,
   "metadata": {},
   "outputs": [
    {
     "name": "stdout",
     "output_type": "stream",
     "text": [
      "80913 80913\n",
      "7656 73257\n"
     ]
    }
   ],
   "source": [
    "from torchvision import transforms\n",
    "\n",
    "# 데이터 증강을 위한 변환 정의\n",
    "augmentation_transforms = transforms.Compose([\n",
    "    transforms.RandomHorizontalFlip(),\n",
    "    transforms.RandomRotation(15),\n",
    "    transforms.ColorJitter(brightness=0.2, contrast=0.2, saturation=0.2, hue=0.1)\n",
    "])\n",
    "\n",
    "# 레이블 별로 이미지 분류\n",
    "images_label_0 = [train_images[i] for i in range(len(train_labels)) if train_labels[i] == 0]\n",
    "images_label_1 = [train_images[i] for i in range(len(train_labels)) if train_labels[i] == 1]\n",
    "\n",
    "# 레이블 0의 이미지에 대한 데이터 증강 수행\n",
    "augmented_images_label_0 = []\n",
    "for img in images_label_0:\n",
    "    augmented_image = augmentation_transforms(img)\n",
    "    augmented_images_label_0.append(augmented_image)\n",
    "\n",
    "# 증강된 이미지와 원본 이미지를 합침\n",
    "balanced_images_label_0 = images_label_0 + augmented_images_label_0\n",
    "\n",
    "# 이미지와 레이블 합치기\n",
    "balanced_train_images = balanced_images_label_0 + images_label_1\n",
    "balanced_train_labels = [0] * len(balanced_images_label_0) + [1] * len(images_label_1)\n",
    "\n",
    "# 결과 확인\n",
    "print(len(balanced_train_images), len(balanced_train_labels))\n",
    "print(balanced_train_labels.count(0), balanced_train_labels.count(1))"
   ]
  },
  {
   "cell_type": "code",
   "execution_count": 10,
   "metadata": {},
   "outputs": [],
   "source": [
    "train_transform = transforms.Compose([\n",
    "    transforms.Resize((32, 32)),\n",
    "    transforms.ToTensor(),\n",
    "])\n",
    "\n",
    "class CustomDataset(Dataset):\n",
    "    def __init__(self, images, labels, transform=None):\n",
    "        self.images = images\n",
    "        self.labels = labels\n",
    "        self.transform = transform\n",
    "\n",
    "    def __len__(self):\n",
    "        return len(self.images)\n",
    "\n",
    "    def __getitem__(self, idx):\n",
    "        image = self.images[idx]\n",
    "        label = self.labels[idx]\n",
    "\n",
    "        #if self.transform:\n",
    "        #    print('image:', image.shape)\n",
    "        #    image = self.transform(image)\n",
    "\n",
    "        # Return the image and label as a dictionary or tuple\n",
    "        sample = {'image': image, 'label': label}\n",
    "\n",
    "        return sample"
   ]
  },
  {
   "cell_type": "code",
   "execution_count": 11,
   "metadata": {},
   "outputs": [
    {
     "name": "stdout",
     "output_type": "stream",
     "text": [
      "80913 80913\n"
     ]
    }
   ],
   "source": [
    "print(len(balanced_train_images), len(balanced_train_labels))\n",
    "train_dataset = CustomDataset(balanced_train_images, balanced_train_labels, transform=train_transform)"
   ]
  },
  {
   "cell_type": "code",
   "execution_count": 12,
   "metadata": {},
   "outputs": [
    {
     "name": "stdout",
     "output_type": "stream",
     "text": [
      "train_data:64730, test_data:16183\n"
     ]
    }
   ],
   "source": [
    "# Specify the lengths of the training and testing sets\n",
    "train_size = int(0.8 * len(train_dataset))\n",
    "test_size = len(train_dataset) - train_size\n",
    "\n",
    "# Use random_split to split the dataset\n",
    "train_data, test_data = random_split(train_dataset, [train_size, test_size])\n",
    "print(f'train_data:{len(train_data)}, test_data:{len(test_data)}')"
   ]
  },
  {
   "cell_type": "code",
   "execution_count": 13,
   "metadata": {},
   "outputs": [
    {
     "name": "stdout",
     "output_type": "stream",
     "text": [
      "506 127\n"
     ]
    }
   ],
   "source": [
    "# Step 4: Create a DataLoader for your dataset\n",
    "train_loader = DataLoader(train_data, batch_size=128, shuffle=True)\n",
    "test_loader = DataLoader(test_data, batch_size=128, shuffle=False)\n",
    "print(len(train_loader), len(test_loader))"
   ]
  },
  {
   "cell_type": "code",
   "execution_count": 14,
   "metadata": {},
   "outputs": [],
   "source": [
    "def test_accuracy(model, test_loader, device):\n",
    "    model.eval()\n",
    "    correct = 0\n",
    "    total = 0\n",
    "    with torch.no_grad():\n",
    "        for batch in tqdm(test_loader):\n",
    "            inputs, labels = batch['image'], batch['label']\n",
    "            inputs = inputs.to(torch.float32).to(device)\n",
    "            labels = labels.to(torch.float32).to(device)\n",
    "            labels = labels.long()\n",
    "            \n",
    "            outputs = model(inputs)\n",
    "            _, predicted = torch.max(outputs.data, 1)\n",
    "            total += labels.size(0)\n",
    "            correct += (predicted == labels).sum().item()\n",
    "    \n",
    "    accuracy = 100 * correct / total\n",
    "    return accuracy"
   ]
  },
  {
   "cell_type": "code",
   "execution_count": 15,
   "metadata": {},
   "outputs": [],
   "source": [
    "def train(model, train_loader, test_loader, criterion, optimizer, device, num_epochs=5):\n",
    "    \n",
    "    best_accuracy = 0\n",
    "    for epoch in range(num_epochs):\n",
    "        model.train()\n",
    "        running_loss = 0.0\n",
    "        print('## epoch ##', epoch)\n",
    "        \n",
    "        for batch in tqdm(train_loader):\n",
    "            inputs, labels = batch['image'], batch['label']\n",
    "            inputs = inputs.to(torch.float32).to(device)\n",
    "            labels = labels.to(torch.float32).to(device)\n",
    "\n",
    "            optimizer.zero_grad()\n",
    "\n",
    "            outputs = model(inputs)\n",
    "            labels = labels.long()\n",
    "            loss = criterion(outputs, labels)\n",
    "            loss.backward()\n",
    "            optimizer.step()\n",
    "\n",
    "            running_loss += loss.item()\n",
    "\n",
    "        epoch_loss = running_loss / len(train_loader)\n",
    "        epoch_accuracy = test_accuracy(model, test_loader, device)\n",
    "\n",
    "        print(f\"Epoch {epoch + 1}/{num_epochs}, Loss: {epoch_loss}, Test Accuracy: {epoch_accuracy}%\")\n",
    "        \n",
    "        if epoch_accuracy > best_accuracy:\n",
    "            best_accuracy = epoch_accuracy\n",
    "            torch.save(model.state_dict(), 'best_digit_recog_model.pth')\n",
    "            print(f\"New best model saved with accuracy: {epoch_accuracy}%\")"
   ]
  },
  {
   "cell_type": "code",
   "execution_count": 16,
   "metadata": {},
   "outputs": [
    {
     "data": {
      "text/plain": [
       "VGG16(\n",
       "  (features): Sequential(\n",
       "    (0): Conv2d(3, 64, kernel_size=(3, 3), stride=(1, 1), padding=(1, 1))\n",
       "    (1): BatchNorm2d(64, eps=1e-05, momentum=0.1, affine=True, track_running_stats=True)\n",
       "    (2): ReLU(inplace=True)\n",
       "    (3): Conv2d(64, 64, kernel_size=(3, 3), stride=(1, 1), padding=(1, 1))\n",
       "    (4): BatchNorm2d(64, eps=1e-05, momentum=0.1, affine=True, track_running_stats=True)\n",
       "    (5): ReLU(inplace=True)\n",
       "    (6): MaxPool2d(kernel_size=2, stride=2, padding=0, dilation=1, ceil_mode=False)\n",
       "    (7): Conv2d(64, 128, kernel_size=(3, 3), stride=(1, 1), padding=(1, 1))\n",
       "    (8): BatchNorm2d(128, eps=1e-05, momentum=0.1, affine=True, track_running_stats=True)\n",
       "    (9): ReLU(inplace=True)\n",
       "    (10): Conv2d(128, 128, kernel_size=(3, 3), stride=(1, 1), padding=(1, 1))\n",
       "    (11): BatchNorm2d(128, eps=1e-05, momentum=0.1, affine=True, track_running_stats=True)\n",
       "    (12): ReLU(inplace=True)\n",
       "    (13): MaxPool2d(kernel_size=2, stride=2, padding=0, dilation=1, ceil_mode=False)\n",
       "    (14): Conv2d(128, 256, kernel_size=(3, 3), stride=(1, 1), padding=(1, 1))\n",
       "    (15): BatchNorm2d(256, eps=1e-05, momentum=0.1, affine=True, track_running_stats=True)\n",
       "    (16): ReLU(inplace=True)\n",
       "    (17): Conv2d(256, 256, kernel_size=(3, 3), stride=(1, 1), padding=(1, 1))\n",
       "    (18): BatchNorm2d(256, eps=1e-05, momentum=0.1, affine=True, track_running_stats=True)\n",
       "    (19): ReLU(inplace=True)\n",
       "    (20): Conv2d(256, 256, kernel_size=(3, 3), stride=(1, 1), padding=(1, 1))\n",
       "    (21): BatchNorm2d(256, eps=1e-05, momentum=0.1, affine=True, track_running_stats=True)\n",
       "    (22): ReLU(inplace=True)\n",
       "    (23): MaxPool2d(kernel_size=2, stride=2, padding=0, dilation=1, ceil_mode=False)\n",
       "    (24): Conv2d(256, 512, kernel_size=(3, 3), stride=(1, 1), padding=(1, 1))\n",
       "    (25): BatchNorm2d(512, eps=1e-05, momentum=0.1, affine=True, track_running_stats=True)\n",
       "    (26): ReLU(inplace=True)\n",
       "    (27): Conv2d(512, 512, kernel_size=(3, 3), stride=(1, 1), padding=(1, 1))\n",
       "    (28): BatchNorm2d(512, eps=1e-05, momentum=0.1, affine=True, track_running_stats=True)\n",
       "    (29): ReLU(inplace=True)\n",
       "    (30): Conv2d(512, 512, kernel_size=(3, 3), stride=(1, 1), padding=(1, 1))\n",
       "    (31): BatchNorm2d(512, eps=1e-05, momentum=0.1, affine=True, track_running_stats=True)\n",
       "    (32): ReLU(inplace=True)\n",
       "    (33): MaxPool2d(kernel_size=2, stride=2, padding=0, dilation=1, ceil_mode=False)\n",
       "    (34): Conv2d(512, 512, kernel_size=(3, 3), stride=(1, 1), padding=(1, 1))\n",
       "    (35): BatchNorm2d(512, eps=1e-05, momentum=0.1, affine=True, track_running_stats=True)\n",
       "    (36): ReLU(inplace=True)\n",
       "    (37): Conv2d(512, 512, kernel_size=(3, 3), stride=(1, 1), padding=(1, 1))\n",
       "    (38): BatchNorm2d(512, eps=1e-05, momentum=0.1, affine=True, track_running_stats=True)\n",
       "    (39): ReLU(inplace=True)\n",
       "    (40): Conv2d(512, 512, kernel_size=(3, 3), stride=(1, 1), padding=(1, 1))\n",
       "    (41): BatchNorm2d(512, eps=1e-05, momentum=0.1, affine=True, track_running_stats=True)\n",
       "    (42): ReLU(inplace=True)\n",
       "    (43): MaxPool2d(kernel_size=2, stride=2, padding=0, dilation=1, ceil_mode=False)\n",
       "  )\n",
       "  (classifier): Sequential(\n",
       "    (0): Linear(in_features=512, out_features=4096, bias=True)\n",
       "    (1): ReLU(inplace=True)\n",
       "    (2): Dropout(p=0.5, inplace=False)\n",
       "    (3): Linear(in_features=4096, out_features=4096, bias=True)\n",
       "    (4): ReLU(inplace=True)\n",
       "    (5): Dropout(p=0.5, inplace=False)\n",
       "    (6): Linear(in_features=4096, out_features=2, bias=True)\n",
       "  )\n",
       ")"
      ]
     },
     "execution_count": 16,
     "metadata": {},
     "output_type": "execute_result"
    }
   ],
   "source": [
    "#model = VGG(num_classes=11).to(device)\n",
    "model =  VGG16(num_classes=2).to(device)\n",
    "criterion = nn.CrossEntropyLoss()\n",
    "optimizer = optim.SGD(model.parameters(), lr=0.001, momentum=0.9)\n",
    "# Train the model\n",
    "model.to(device)\n",
    "# train(model, train_loader, criterion, optimizer, num_epochs=5)"
   ]
  },
  {
   "cell_type": "code",
   "execution_count": 17,
   "metadata": {},
   "outputs": [
    {
     "name": "stdout",
     "output_type": "stream",
     "text": [
      "## epoch ## 0\n"
     ]
    },
    {
     "name": "stderr",
     "output_type": "stream",
     "text": [
      "  0%|          | 0/506 [00:00<?, ?it/s]/root/miniconda3/envs/cv_proj/lib/python3.9/site-packages/torch/nn/modules/conv.py:456: UserWarning: Applied workaround for CuDNN issue, install nvrtc.so (Triggered internally at ../aten/src/ATen/native/cudnn/Conv_v8.cpp:80.)\n",
      "  return F.conv2d(input, weight, bias, self.stride,\n",
      "100%|██████████| 506/506 [00:09<00:00, 51.81it/s]\n",
      "100%|██████████| 127/127 [00:00<00:00, 144.31it/s]\n"
     ]
    },
    {
     "name": "stdout",
     "output_type": "stream",
     "text": [
      "Epoch 1/5, Loss: 0.143869395047544, Test Accuracy: 95.85985293208923%\n",
      "New best model saved with accuracy: 95.85985293208923%\n",
      "## epoch ## 1\n"
     ]
    },
    {
     "name": "stderr",
     "output_type": "stream",
     "text": [
      "100%|██████████| 506/506 [00:09<00:00, 54.04it/s]\n",
      "100%|██████████| 127/127 [00:00<00:00, 151.83it/s]\n"
     ]
    },
    {
     "name": "stdout",
     "output_type": "stream",
     "text": [
      "Epoch 2/5, Loss: 0.05969843071822828, Test Accuracy: 98.16474077735896%\n",
      "New best model saved with accuracy: 98.16474077735896%\n",
      "## epoch ## 2\n"
     ]
    },
    {
     "name": "stderr",
     "output_type": "stream",
     "text": [
      "100%|██████████| 506/506 [00:09<00:00, 53.68it/s]\n",
      "100%|██████████| 127/127 [00:00<00:00, 153.69it/s]\n"
     ]
    },
    {
     "name": "stdout",
     "output_type": "stream",
     "text": [
      "Epoch 3/5, Loss: 0.0424681393541911, Test Accuracy: 98.442810356547%\n",
      "New best model saved with accuracy: 98.442810356547%\n",
      "## epoch ## 3\n"
     ]
    },
    {
     "name": "stderr",
     "output_type": "stream",
     "text": [
      "100%|██████████| 506/506 [00:09<00:00, 54.01it/s]\n",
      "100%|██████████| 127/127 [00:00<00:00, 153.26it/s]\n"
     ]
    },
    {
     "name": "stdout",
     "output_type": "stream",
     "text": [
      "Epoch 4/5, Loss: 0.02814301984658899, Test Accuracy: 98.38719644070939%\n",
      "## epoch ## 4\n"
     ]
    },
    {
     "name": "stderr",
     "output_type": "stream",
     "text": [
      "100%|██████████| 506/506 [00:09<00:00, 54.16it/s]\n",
      "100%|██████████| 127/127 [00:00<00:00, 155.23it/s]"
     ]
    },
    {
     "name": "stdout",
     "output_type": "stream",
     "text": [
      "Epoch 5/5, Loss: 0.02196910385094885, Test Accuracy: 98.38719644070939%\n"
     ]
    },
    {
     "name": "stderr",
     "output_type": "stream",
     "text": [
      "\n"
     ]
    }
   ],
   "source": [
    "train(model, train_loader, test_loader, criterion, optimizer, device, num_epochs=5)"
   ]
  },
  {
   "cell_type": "code",
   "execution_count": null,
   "metadata": {},
   "outputs": [],
   "source": []
  }
 ],
 "metadata": {
  "kernelspec": {
   "display_name": "cv_proj",
   "language": "python",
   "name": "python3"
  },
  "language_info": {
   "codemirror_mode": {
    "name": "ipython",
    "version": 3
   },
   "file_extension": ".py",
   "mimetype": "text/x-python",
   "name": "python",
   "nbconvert_exporter": "python",
   "pygments_lexer": "ipython3",
   "version": "3.9.18"
  },
  "orig_nbformat": 4
 },
 "nbformat": 4,
 "nbformat_minor": 2
}
