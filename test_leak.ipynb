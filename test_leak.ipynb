{
 "cells": [
  {
   "cell_type": "code",
   "execution_count": null,
   "metadata": {},
   "outputs": [],
   "source": [
    "#! pip3 install nptdms\n",
    "#! brew install nptdms\n",
    "#!pip3 install librosa\n",
    "#!pip3 install matplotlib\n",
    "#!pip3 install --upgrade matplotlib"
   ]
  },
  {
   "cell_type": "code",
   "execution_count": null,
   "metadata": {},
   "outputs": [],
   "source": [
    "import librosa\n",
    "import librosa.display\n",
    "import matplotlib.pyplot as plt\n",
    "import numpy as np\n",
    "from nptdms import TdmsFile\n",
    "\n",
    "from utils import read_tdms_file, draw_raw_data, save_wav, cut_and_save_wav, filter_wav\n",
    "from nptdms import TdmsFile\n",
    "import wave"
   ]
  },
  {
   "cell_type": "code",
   "execution_count": null,
   "metadata": {},
   "outputs": [],
   "source": [
    "# Read File\n",
    "min_length = 30000\n"
   ]
  },
  {
   "cell_type": "code",
   "execution_count": null,
   "metadata": {},
   "outputs": [],
   "source": [
    "#수집 데터\n",
    "# data_a0_h60_s120_e100 = read_tdms_file('water_leak_dataset/Height_Angle_Leak/a0_h60_s120_e100.tdms', min_length)\n",
    "data_a0_h30_s120_e100 = read_tdms_file('water_leak_dataset/Height_Angle_Leak/a0_h30_s120_e100.tdms', min_length)\n",
    "data_a90_h30_s120_e100 = read_tdms_file('water_leak_dataset/Height_Angle_Leak/a90_h30_s120_e100.tdms', min_length)\n",
    "a180_h30_s120_e100 = read_tdms_file('water_leak_dataset/Height_Angle_Leak/a180_h30_s120_e100.tdms', min_length)\n",
    "no_leak = read_tdms_file('water_leak_dataset/Height_Angle_Leak/a180_h30_normal.tdms', min_length)\n",
    "#/Users/jakec/Library/Mobile Documents/com~apple~CloudDocs/surromind/water_leak/water_leak_dataset/Height_Angle_Leak/a180_h30_s120_e100.tdms\n",
    "#a180_h30_normal10_abnormal10_repeat = read_tdms_file('water_leak_dataset/Height_Angle_Leak/a180_h30_normal10_abnormal10_repeat.tdms', min_length)\n",
    "# #print(len(data_h60))\n",
    "\n",
    "# #연구원 데터\n",
    "# Leak_up0cm = read_tdms_file('water_leak_dataset/Height_Leak/Leak_up0cm (water1.3m).tdms', min_length)\n",
    "print(len(no_leak))"
   ]
  },
  {
   "cell_type": "code",
   "execution_count": null,
   "metadata": {},
   "outputs": [],
   "source": [
    "draw_raw_data(no_leak, sr=32000, lim=len(no_leak))"
   ]
  },
  {
   "cell_type": "code",
   "execution_count": null,
   "metadata": {},
   "outputs": [],
   "source": [
    "draw_raw_data(data_a90_h30_s120_e100, sr=32000, lim=3)"
   ]
  },
  {
   "cell_type": "code",
   "execution_count": null,
   "metadata": {},
   "outputs": [],
   "source": [
    "#a180_h30_normal10_abnormal10_repeat\n",
    "draw_raw_data(data_a0_h30_s120_e100, sr=32000, lim=len(data_a0_h30_s120_e100))"
   ]
  },
  {
   "cell_type": "code",
   "execution_count": null,
   "metadata": {},
   "outputs": [],
   "source": [
    "no_leak"
   ]
  },
  {
   "cell_type": "code",
   "execution_count": null,
   "metadata": {},
   "outputs": [],
   "source": [
    "import soundfile as sf\n",
    "\n",
    "def save_wav(raw_data, sample_width, channels, sample_rate, output_file):\n",
    "\n",
    "    with wave.open(output_file, 'w') as wav_file:\n",
    "\n",
    "        wav_file.setnchannels(channels)\n",
    "        wav_file.setsampwidth(sample_width)\n",
    "        wav_file.setframerate(sample_rate)\n",
    "        wav_file.writeframes(raw_data)\n",
    "\n",
    "def cut_and_save_wav(raw_data, sample_width, channels, sample_rate, duration, output_file_prefix):\n",
    "\n",
    "    total_frames = int(len(raw_data) // (sample_width * channels))\n",
    "    print('total_frames:', total_frames)\n",
    "    frames_per_second = sample_rate\n",
    "    print('frames_per_second:', frames_per_second)\n",
    "    frames_to_keep = int(duration * frames_per_second)\n",
    "    print('frames_to_keep:', frames_to_keep)\n",
    "\n",
    "\n",
    "    for i in range(0, total_frames, frames_to_keep):\n",
    "        print('########################')\n",
    "        print(f'{i * sample_width * channels}:{(i + frames_to_keep) * sample_width * channels}')\n",
    "        segment = raw_data[int(i * sample_width * channels): int((i + frames_to_keep) * sample_width * channels)]\n",
    "        print(f'segment:{segment} length:{len(segment)}')\n",
    "        output_file = f\"{output_file_prefix}_{i // frames_per_second}s_\"\n",
    "        #save_wav(segment, sample_width, channels, sample_rate, output_file)\n",
    "        sf.write(f'{output_file}_stereo_file.wav', segment, sample_rate, format='wav', subtype='PCM_24')\n"
   ]
  },
  {
   "cell_type": "code",
   "execution_count": null,
   "metadata": {},
   "outputs": [],
   "source": [
    "os.system('rm -rf datasets/no_leak/noise/*')\n",
    "os.system('rm -rf datasets/data_a90_h30_s120_e100/noise/*')\n",
    "os.system('rm -rf datasets/data_a90_h30_s120_e100/noise/*')"
   ]
  },
  {
   "cell_type": "code",
   "execution_count": null,
   "metadata": {},
   "outputs": [],
   "source": [
    "# make dataset\n",
    "raw_data = no_leak[0] \n",
    "print('raw_data:', raw_data.shape)\n",
    "sample_width = 1\n",
    "channels = 1  \n",
    "sample_rate =32000\n",
    "duration_to_cut = 1\n",
    "raw_data = no_leak[0] \n",
    "cut_and_save_wav(raw_data, sample_width, channels, sample_rate, duration_to_cut, \"datasets/no_leak/noise/two\")\n",
    "raw_data = no_leak[1]\n",
    "cut_and_save_wav(raw_data, sample_width, channels, sample_rate, duration_to_cut, \"datasets/no_leak/noise/one\")\n",
    "raw_data = data_a90_h30_s120_e100[0]\n",
    "cut_and_save_wav(raw_data, sample_width, channels, sample_rate, duration_to_cut, \"datasets/data_a90_h30_s120_e100/noise/one\")\n",
    "raw_data = data_a90_h30_s120_e100[1]\n",
    "cut_and_save_wav(raw_data, sample_width, channels, sample_rate, duration_to_cut, \"datasets/data_a90_h30_s120_e100/noise/two\")\n",
    "#data_a0_h30_s120_e100\n",
    "raw_data = data_a0_h30_s120_e100[0]\n",
    "cut_and_save_wav(raw_data, sample_width, channels, sample_rate, duration_to_cut, \"datasets/data_a0_h30_s120_e100/noise/one\")\n",
    "raw_data = data_a0_h30_s120_e100[1]\n",
    "cut_and_save_wav(raw_data, sample_width, channels, sample_rate, duration_to_cut, \"datasets/data_a0_h30_s120_e100/noise/two\")"
   ]
  },
  {
   "cell_type": "code",
   "execution_count": null,
   "metadata": {},
   "outputs": [],
   "source": [
    "# read\n",
    "# data, samplerate = sf.read('datasets/category_1/noise/one_0s__stereo_file.wav')\n",
    "# print(data, samplerate)"
   ]
  },
  {
   "cell_type": "code",
   "execution_count": null,
   "metadata": {},
   "outputs": [],
   "source": [
    "# # WAV 파일을 읽는 함수\n",
    "# def read_wav_file(file_path):\n",
    "#     try:\n",
    "#         with wave.open(file_path, 'rb') as wav_file:\n",
    "#             # 여기에서 데이터를 처리하거나 분석할 수 있습니다.\n",
    "#             print(f\"Successfully read: {file_path}\")\n",
    "#     except Exception as e:\n",
    "#         print(f\"Error reading file: {file_path}\")\n",
    "#         print(f\"Error message: {str(e)}\")\n",
    "#         return None\n",
    "    \n",
    "# #read_wav_file('datasets/category_1/noise/one_0s__stereo_file.wav')"
   ]
  },
  {
   "cell_type": "code",
   "execution_count": null,
   "metadata": {},
   "outputs": [],
   "source": [
    "#filter_wav('/Users/jakec/Library/Mobile Documents/com~apple~CloudDocs/surromind/water_leak/datasets/category_1/noise')\n",
    "#filter_wav('/Users/jakec/Library/Mobile Documents/com~apple~CloudDocs/surromind/water_leak/datasets/category_2/noise')"
   ]
  },
  {
   "cell_type": "code",
   "execution_count": null,
   "metadata": {},
   "outputs": [],
   "source": [
    "#!zip -r archive.zip datasets/category_1 datasets/category_2\n",
    "#!zip -d archive.zip \"__MACOSX*\"\n",
    "#! cd datasets\n",
    "#!zip -r archive.zip  category_1  category_2 -x \"*.DS_Store\" \"__MACOSX\""
   ]
  },
  {
   "cell_type": "code",
   "execution_count": null,
   "metadata": {},
   "outputs": [],
   "source": []
  }
 ],
 "metadata": {
  "kernelspec": {
   "display_name": "Python 3",
   "language": "python",
   "name": "python3"
  },
  "language_info": {
   "codemirror_mode": {
    "name": "ipython",
    "version": 3
   },
   "file_extension": ".py",
   "mimetype": "text/x-python",
   "name": "python",
   "nbconvert_exporter": "python",
   "pygments_lexer": "ipython3",
   "version": "3.9.6 (default, Oct 18 2022, 12:41:40) \n[Clang 14.0.0 (clang-1400.0.29.202)]"
  },
  "orig_nbformat": 4,
  "vscode": {
   "interpreter": {
    "hash": "31f2aee4e71d21fbe5cf8b01ff0e069b9275f58929596ceb00d14d90e3e16cd6"
   }
  }
 },
 "nbformat": 4,
 "nbformat_minor": 2
}
